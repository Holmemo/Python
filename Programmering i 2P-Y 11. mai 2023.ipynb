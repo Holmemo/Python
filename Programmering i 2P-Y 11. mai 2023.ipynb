{
 "cells": [
  {
   "cell_type": "markdown",
   "id": "95c89c66",
   "metadata": {},
   "source": [
    "# Oppgave 1: Udirs eksempelsett V2023"
   ]
  },
  {
   "cell_type": "markdown",
   "id": "4c357770",
   "metadata": {},
   "source": [
    "En elev har skreet programkoden nedenfor."
   ]
  },
  {
   "cell_type": "code",
   "execution_count": null,
   "id": "e357d09c",
   "metadata": {
    "scrolled": true
   },
   "outputs": [],
   "source": [
    "beløp = 10000\n",
    "verdi = beløp\n",
    "vekstfaktor = 1.03\n",
    "år = 0\n",
    "\n",
    "while verdi < beløp * 2:\n",
    "    verdi = verdi * vekstfaktor\n",
    "    år = år + 1\n",
    "\n",
    "print(verdi)\n",
    "print(år)    "
   ]
  },
  {
   "cell_type": "markdown",
   "id": "d398d4a7",
   "metadata": {},
   "source": [
    "#### Hva ønsker eleven å finne ut?\n",
    "Forklar hva som skjer når programmet blir kjørt."
   ]
  },
  {
   "cell_type": "markdown",
   "id": "7886741f",
   "metadata": {},
   "source": []
  },
  {
   "cell_type": "markdown",
   "id": "58139ed1",
   "metadata": {},
   "source": [
    "# Oppgave 2: terminprøve 2PY Aschehoug H22 (del 1)"
   ]
  },
  {
   "cell_type": "markdown",
   "id": "f897ec7f",
   "metadata": {},
   "source": [
    "Studer programmet nedenfor."
   ]
  },
  {
   "cell_type": "code",
   "execution_count": null,
   "id": "27926e1c",
   "metadata": {},
   "outputs": [],
   "source": [
    "G = 50000\n",
    "V = 1.10\n",
    "t = 2\n",
    "\n",
    "N = G*V**t\n",
    "\n",
    "print(N)"
   ]
  },
  {
   "cell_type": "markdown",
   "id": "1a30f3ee",
   "metadata": {},
   "source": [
    "#### a) Hva vil programmet skrive ut?"
   ]
  },
  {
   "cell_type": "markdown",
   "id": "d18c781f",
   "metadata": {},
   "source": []
  },
  {
   "cell_type": "markdown",
   "id": "469c0e5e",
   "metadata": {},
   "source": [
    "#### b) Lag teksten til en oppgave som programmet ovenfor vil løse."
   ]
  },
  {
   "cell_type": "markdown",
   "id": "c5b5bc05",
   "metadata": {},
   "source": []
  },
  {
   "cell_type": "markdown",
   "id": "a1f9a9c8",
   "metadata": {},
   "source": [
    "# Oppgave 3: heldagsprøve 2PY Aschehoug V23 (del 1)"
   ]
  },
  {
   "cell_type": "markdown",
   "id": "29187068",
   "metadata": {},
   "source": [
    "Oline har skrevet programmet nedenfor."
   ]
  },
  {
   "cell_type": "code",
   "execution_count": null,
   "id": "548ff6d9",
   "metadata": {},
   "outputs": [],
   "source": [
    "verdi = 350000\n",
    "tap = 0.12\n",
    "aar = 0\n",
    "\n",
    "while verdi > 175000:\n",
    "    verditap = verdi * tap\n",
    "    verdi = verdi - verditap\n",
    "    aar = aar + 1\n",
    "print(\"Det tar\", aar, \"år\")"
   ]
  },
  {
   "cell_type": "markdown",
   "id": "570e6bcb",
   "metadata": {},
   "source": [
    "#### Hva tror du Oline ønsker å finne ut?\n",
    "Forklar hva osm skjer når programmet kjøres."
   ]
  },
  {
   "cell_type": "markdown",
   "id": "b0212696",
   "metadata": {},
   "source": []
  },
  {
   "cell_type": "markdown",
   "id": "d5cbe5a8",
   "metadata": {},
   "source": [
    "# Oppgave 4: heldagsprøve 2PY Mønster "
   ]
  },
  {
   "cell_type": "markdown",
   "id": "176fe1b4",
   "metadata": {},
   "source": [
    "Anders har skrevet en kode, men glemt å kommentere underveis. Forklar hva koden hans gjør."
   ]
  },
  {
   "cell_type": "code",
   "execution_count": null,
   "id": "17cf5471",
   "metadata": {
    "scrolled": true
   },
   "outputs": [],
   "source": [
    "import numpy as np\n",
    "import matplotlib.pyplot as plt\n",
    "\n",
    "xstart = 0\n",
    "xslutt = 100\n",
    "trinn = 1\n",
    "\n",
    "def f(x):\n",
    "    return 25*x + 100\n",
    "\n",
    "x = np.arange(xstart, xslutt, trinn)\n",
    "y = f(x)\n",
    "\n",
    "plt.plot(x, y)\n",
    "plt.show()"
   ]
  },
  {
   "cell_type": "markdown",
   "id": "31040433",
   "metadata": {},
   "source": [
    "# Oppgave 5: heldagsprøve 2PY Mønster"
   ]
  },
  {
   "cell_type": "markdown",
   "id": "5739c87a",
   "metadata": {},
   "source": [
    "Nikoline lager følgende program:"
   ]
  },
  {
   "cell_type": "code",
   "execution_count": null,
   "id": "ce9998a5",
   "metadata": {},
   "outputs": [],
   "source": [
    "start = 50000\n",
    "vekstfaktor = 1.04\n",
    "\n",
    "for aar in range(1, 5):\n",
    "    sum = start * vekstfaktor**aar\n",
    "    print(\"Etter\", aar, \"år har 50 000 kroner vokst til\", sum, \"kroner.\")"
   ]
  },
  {
   "cell_type": "markdown",
   "id": "8102e2a7",
   "metadata": {},
   "source": [
    "#### a) Hva prøver Nikoline å finne ut?"
   ]
  },
  {
   "cell_type": "markdown",
   "id": "cc649af5",
   "metadata": {},
   "source": []
  },
  {
   "cell_type": "markdown",
   "id": "4452a128",
   "metadata": {},
   "source": [
    "#### b) Forklar hva osm skjer når programmet kjører."
   ]
  },
  {
   "cell_type": "markdown",
   "id": "a694b76b",
   "metadata": {},
   "source": []
  },
  {
   "cell_type": "markdown",
   "id": "c4ee8b41",
   "metadata": {},
   "source": [
    "# Oppgave 6: kapitteltest (kap. 6 Statistikk)"
   ]
  },
  {
   "cell_type": "markdown",
   "id": "d9029fa3",
   "metadata": {},
   "source": [
    "En vinter gikk Tone 11 skiturer. Lengden på turene var (i km):"
   ]
  },
  {
   "cell_type": "markdown",
   "id": "a2e7dd5a",
   "metadata": {},
   "source": [
    "$10$ \\,  $22$ \\,  $18$ \\,  $27$ \\,  $23$ \\,  $15$ \\,  $25$ \\,  $20$ \\,  $18$ \\,  $12$ \\,  $30$"
   ]
  },
  {
   "cell_type": "markdown",
   "id": "aaee5c85",
   "metadata": {},
   "source": [
    "Programmet nedenfor utfører ulike beregninger for lengden av turene."
   ]
  },
  {
   "cell_type": "code",
   "execution_count": null,
   "id": "f1e13835",
   "metadata": {},
   "outputs": [],
   "source": [
    "from pylab import *\n",
    "skitur = [10, 22, 18, 27, 23, 15, 25, 20, 18, 12, 30]\n",
    "n = len(skitur)\n",
    "a = sum(skitur)\n",
    "b = a/n\n",
    "c = sum((skitur - b)**2)\n",
    "d = sqrt(c/(n-1))\n",
    "print(\"a =\", a)\n",
    "print(\"b =\", b)\n",
    "print(\"c =\", c)\n",
    "print(\"d =\", d)"
   ]
  },
  {
   "cell_type": "markdown",
   "id": "2eb5ccdc",
   "metadata": {},
   "source": [
    "Da vi kjørte programmet, fikk vi disse resultatene:"
   ]
  },
  {
   "cell_type": "code",
   "execution_count": 12,
   "id": "ad295455",
   "metadata": {},
   "outputs": [],
   "source": [
    "a = 220\n",
    "b = 20.0\n",
    "c = 384.0\n",
    "d = 6.196773353931867"
   ]
  },
  {
   "cell_type": "markdown",
   "id": "82cad0ff",
   "metadata": {},
   "source": [
    "#### Forklar hva programmet gjør linje for linje, og bruk resultatene til å bestemme gjennomsnitt og standardavvik for lengden av skiturene."
   ]
  },
  {
   "cell_type": "markdown",
   "id": "6b7d3ea2",
   "metadata": {},
   "source": []
  },
  {
   "cell_type": "markdown",
   "id": "05a2fa9f",
   "metadata": {},
   "source": [
    "# Oppgave 7: kapitteltest (kap. 5 Generalisering)"
   ]
  },
  {
   "cell_type": "markdown",
   "id": "e153b76e",
   "metadata": {},
   "source": [
    "Ta for deg programmet nedenfor:"
   ]
  },
  {
   "cell_type": "code",
   "execution_count": null,
   "id": "73c301be",
   "metadata": {},
   "outputs": [],
   "source": [
    "a = int(input(\"Skriv inn et tall\"))\n",
    "sum = 0\n",
    "\n",
    "for n in range(1 , a):\n",
    "    tall = n*(n+1)/2       # Formelen for trekanttall\n",
    "    sum = sum + tall\n",
    "    \n",
    "print(sum)"
   ]
  },
  {
   "cell_type": "markdown",
   "id": "0a183389",
   "metadata": {},
   "source": [
    "#### Hva gjør programmet hvis brukeren skriver inn tallet 5? Forklar."
   ]
  },
  {
   "cell_type": "markdown",
   "id": "a5840397",
   "metadata": {},
   "source": []
  }
 ],
 "metadata": {
  "kernelspec": {
   "display_name": "Python 3 (ipykernel)",
   "language": "python",
   "name": "python3"
  },
  "language_info": {
   "codemirror_mode": {
    "name": "ipython",
    "version": 3
   },
   "file_extension": ".py",
   "mimetype": "text/x-python",
   "name": "python",
   "nbconvert_exporter": "python",
   "pygments_lexer": "ipython3",
   "version": "3.9.12"
  }
 },
 "nbformat": 4,
 "nbformat_minor": 5
}
