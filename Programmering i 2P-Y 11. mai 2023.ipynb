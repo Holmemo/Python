{
 "cells": [
  {
   "cell_type": "markdown",
   "id": "23ff6f59",
   "metadata": {},
   "source": [
    "# Oppgave 1: Udirs eksempelsett V2023"
   ]
  },
  {
   "cell_type": "markdown",
   "id": "e29287b7",
   "metadata": {},
   "source": [
    "Trude har skrevet programkoden nedenfor."
   ]
  },
  {
   "cell_type": "code",
   "execution_count": null,
   "id": "707a6c90",
   "metadata": {
    "scrolled": true
   },
   "outputs": [],
   "source": [
    "beløp = 10000\n",
    "verdi = beløp\n",
    "vekstfaktor = 1.03\n",
    "år = 0\n",
    "\n",
    "while verdi < beløp * 2:\n",
    "    verdi = verdi * vekstfaktor\n",
    "    år = år + 1\n",
    "\n",
    "print(verdi)\n",
    "print(år)"
   ]
  },
  {
   "cell_type": "markdown",
   "id": "8cd64dc3",
   "metadata": {},
   "source": [
    "#### Hva ønsker Trude å finne ut?\n",
    "Forklar hva som skjer når programmet blir kjørt."
   ]
  },
  {
   "cell_type": "markdown",
   "id": "7d044303",
   "metadata": {},
   "source": [
    "_Trude ønsker å finne hvor mange år det tar før et beløp (10 000) er blitt fordoblet (20 000) når det vokser med 3 % hvert år. $\\\\$\n",
    "Når programmet kjøres, blir variabelen verdi satt til 10 000. Så går programmet inn i while-løkka og sjekker om 10 000 er mindre enn 20 000. Siden det stemmer, starter løkka. Løkka starter med å endre variabelen verdi til 10 000 $\\cdot$ 1.03 = 10 300 (verdien etter ett år). Så endrer løkka verdien på variabelen år fra 0 til 1. Første runde i løkka er nå ferdig, men vil fortsette å gå så lenge betingelsen er oppfylt. I runde to spør løkka om verdi (nå 10 300) er mindre enn 20 000. Siden det stemmer, går progammet inn i løkka enda en gang og oppdaterer verdiene til variablene \"verdi\" og \"år\". Når løkka har gått mange nok ganger til at \"verdi\"-tallet har blitt større enn 20 000, vil løkka stoppe opp, og programmet hopper ned til linje 10 og 11 hvor det blir bedt om å skrive ut verdiene til de to variablene \"verdi\" og \"år\". Verdi vil da være et tall nært 20 000 (litt større), mens variabelen \"år\" vil fortelle oss hvor mange år det tok før beløpet ble så stort._"
   ]
  },
  {
   "cell_type": "markdown",
   "id": "24ecdfc1",
   "metadata": {},
   "source": [
    "# Oppgave 2: terminprøve 2PY Aschehoug H22 (del 1)"
   ]
  },
  {
   "cell_type": "markdown",
   "id": "0cfeb160",
   "metadata": {},
   "source": [
    "Studer programmet nedenfor."
   ]
  },
  {
   "cell_type": "code",
   "execution_count": null,
   "id": "ae54b9ac",
   "metadata": {},
   "outputs": [],
   "source": [
    "G = 50000\n",
    "V = 1.10\n",
    "t = 2\n",
    "\n",
    "N = G*V**t\n",
    "\n",
    "print(N)"
   ]
  },
  {
   "cell_type": "markdown",
   "id": "b919045c",
   "metadata": {},
   "source": [
    "#### a) Hva vil programmet skrive ut?"
   ]
  },
  {
   "cell_type": "markdown",
   "id": "7a7594aa",
   "metadata": {},
   "source": []
  },
  {
   "cell_type": "markdown",
   "id": "7a108f4c",
   "metadata": {},
   "source": [
    "#### b) Lag teksten til en oppgave som programmet ovenfor vil løse."
   ]
  },
  {
   "cell_type": "markdown",
   "id": "21a8c1ed",
   "metadata": {},
   "source": []
  },
  {
   "cell_type": "markdown",
   "id": "ec057254",
   "metadata": {},
   "source": [
    "# Oppgave 3: heldagsprøve 2PY Aschehoug V23 (del 1)"
   ]
  },
  {
   "cell_type": "markdown",
   "id": "ac4ed650",
   "metadata": {},
   "source": [
    "Jenny har skrevet programmet nedenfor."
   ]
  },
  {
   "cell_type": "code",
   "execution_count": null,
   "id": "cb680dcf",
   "metadata": {},
   "outputs": [],
   "source": [
    "verdi = 350000\n",
    "tap = 0.12\n",
    "aar = 0\n",
    "\n",
    "while verdi > 175000:\n",
    "    verditap = verdi * tap\n",
    "    verdi = verdi - verditap\n",
    "    aar = aar + 1\n",
    "print(\"Det tar\", aar, \"år\")"
   ]
  },
  {
   "cell_type": "markdown",
   "id": "7fe2ce94",
   "metadata": {},
   "source": [
    "#### Hva tror du Jenny ønsker å finne ut?\n",
    "Forklar hva osm skjer når programmet kjøres."
   ]
  },
  {
   "cell_type": "markdown",
   "id": "90d84e08",
   "metadata": {},
   "source": []
  },
  {
   "cell_type": "markdown",
   "id": "351f8d28",
   "metadata": {},
   "source": [
    "# Oppgave 4: heldagsprøve 2PY Mønster "
   ]
  },
  {
   "cell_type": "markdown",
   "id": "2064b136",
   "metadata": {},
   "source": [
    "Andreas har skrevet en kode, men glemt å kommentere underveis. **Forklar hva koden hans gjør.**"
   ]
  },
  {
   "cell_type": "code",
   "execution_count": null,
   "id": "981c1e75",
   "metadata": {
    "scrolled": true
   },
   "outputs": [],
   "source": [
    "import numpy as np\n",
    "import matplotlib.pyplot as plt\n",
    "\n",
    "xstart = 0\n",
    "xslutt = 100\n",
    "trinn = 1\n",
    "\n",
    "def f(x):\n",
    "    return 25*x + 100\n",
    "\n",
    "x = np.arange(xstart, xslutt, trinn)\n",
    "y = f(x)\n",
    "\n",
    "plt.plot(x, y)\n",
    "plt.show()"
   ]
  },
  {
   "cell_type": "markdown",
   "id": "ab92b0d6",
   "metadata": {},
   "source": [
    "# Oppgave 5: heldagsprøve 2PY Mønster"
   ]
  },
  {
   "cell_type": "markdown",
   "id": "3314fb29",
   "metadata": {},
   "source": [
    "Lillian lager følgende program:"
   ]
  },
  {
   "cell_type": "code",
   "execution_count": null,
   "id": "282a528b",
   "metadata": {},
   "outputs": [],
   "source": [
    "start = 50000\n",
    "vekstfaktor = 1.04\n",
    "\n",
    "for aar in range(1, 5):\n",
    "    sum = start * vekstfaktor**aar\n",
    "    print(\"Etter\", aar, \"år har 50 000 kroner vokst til\", sum, \"kroner.\")"
   ]
  },
  {
   "cell_type": "markdown",
   "id": "8d10a268",
   "metadata": {},
   "source": [
    "#### a) Hva prøver Lillian å finne ut?"
   ]
  },
  {
   "cell_type": "markdown",
   "id": "bddb2891",
   "metadata": {},
   "source": []
  },
  {
   "cell_type": "markdown",
   "id": "5cedd6a5",
   "metadata": {},
   "source": [
    "#### b) Forklar hva osm skjer når programmet kjører."
   ]
  },
  {
   "cell_type": "markdown",
   "id": "224c461f",
   "metadata": {},
   "source": []
  },
  {
   "cell_type": "markdown",
   "id": "f707125b",
   "metadata": {},
   "source": [
    "# Oppgave 6: kapitteltest (kap. 6 Statistikk)"
   ]
  },
  {
   "cell_type": "markdown",
   "id": "6a6b9180",
   "metadata": {},
   "source": [
    "En vinter gikk Mikael 11 skiturer. Lengden på turene var (i km):"
   ]
  },
  {
   "cell_type": "markdown",
   "id": "7e5dd4c0",
   "metadata": {},
   "source": [
    "$10$ \\,  $22$ \\,  $18$ \\,  $27$ \\,  $23$ \\,  $15$ \\,  $25$ \\,  $20$ \\,  $18$ \\,  $12$ \\,  $30$"
   ]
  },
  {
   "cell_type": "markdown",
   "id": "b8084b52",
   "metadata": {},
   "source": [
    "Programmet nedenfor utfører ulike beregninger for lengden av turene."
   ]
  },
  {
   "cell_type": "code",
   "execution_count": null,
   "id": "ed3278f9",
   "metadata": {},
   "outputs": [],
   "source": [
    "from pylab import *\n",
    "skitur = [10, 22, 18, 27, 23, 15, 25, 20, 18, 12, 30]\n",
    "n = len(skitur)\n",
    "a = sum(skitur)\n",
    "b = a/n\n",
    "c = sum((skitur - b)**2)\n",
    "d = sqrt(c/(n-1))\n",
    "print(\"a =\", a)\n",
    "print(\"b =\", b)\n",
    "print(\"c =\", c)\n",
    "print(\"d =\", d)"
   ]
  },
  {
   "cell_type": "markdown",
   "id": "9378151c",
   "metadata": {},
   "source": [
    "Da vi kjørte programmet, fikk vi disse resultatene:"
   ]
  },
  {
   "cell_type": "code",
   "execution_count": 12,
   "id": "e69a2b44",
   "metadata": {},
   "outputs": [],
   "source": [
    "a = 220\n",
    "b = 20.0\n",
    "c = 384.0\n",
    "d = 6.196773353931867"
   ]
  },
  {
   "cell_type": "markdown",
   "id": "2edd4835",
   "metadata": {},
   "source": [
    "#### Forklar hva programmet gjør linje for linje, og bruk resultatene til å bestemme gjennomsnitt og standardavvik for lengden av skiturene."
   ]
  },
  {
   "cell_type": "markdown",
   "id": "c3673ce1",
   "metadata": {},
   "source": []
  },
  {
   "cell_type": "markdown",
   "id": "c95baf3a",
   "metadata": {},
   "source": [
    "# Oppgave 7: kapitteltest (kap. 5 Generalisering)"
   ]
  },
  {
   "cell_type": "markdown",
   "id": "2a390cbb",
   "metadata": {},
   "source": [
    "Ta for deg programmet nedenfor:"
   ]
  },
  {
   "cell_type": "code",
   "execution_count": null,
   "id": "25cc6bd0",
   "metadata": {},
   "outputs": [],
   "source": [
    "a = int(input(\"Skriv inn et tall\"))\n",
    "sum = 0\n",
    "\n",
    "for n in range(1 , a):\n",
    "    tall = n*(n+1)/2       # Formelen for trekanttall\n",
    "    sum = sum + tall\n",
    "    \n",
    "print(sum)"
   ]
  },
  {
   "cell_type": "markdown",
   "id": "6d961842",
   "metadata": {},
   "source": [
    "#### Hva gjør programmet hvis brukeren skriver inn tallet 5? Forklar."
   ]
  },
  {
   "cell_type": "markdown",
   "id": "9ba78f8e",
   "metadata": {},
   "source": []
  }
 ],
 "metadata": {
  "kernelspec": {
   "display_name": "Python 3 (ipykernel)",
   "language": "python",
   "name": "python3"
  },
  "language_info": {
   "codemirror_mode": {
    "name": "ipython",
    "version": 3
   },
   "file_extension": ".py",
   "mimetype": "text/x-python",
   "name": "python",
   "nbconvert_exporter": "python",
   "pygments_lexer": "ipython3",
   "version": "3.9.12"
  }
 },
 "nbformat": 4,
 "nbformat_minor": 5
}
